{
 "cells": [
  {
   "cell_type": "code",
   "execution_count": 2,
   "metadata": {},
   "outputs": [
    {
     "ename": "ModuleNotFoundError",
     "evalue": "No module named 'pandas'",
     "output_type": "error",
     "traceback": [
      "\u001b[0;31m---------------------------------------------------------------------------\u001b[0m",
      "\u001b[0;31mModuleNotFoundError\u001b[0m                       Traceback (most recent call last)",
      "\u001b[0;32m<ipython-input-2-ce974eac921e>\u001b[0m in \u001b[0;36m<module>\u001b[0;34m\u001b[0m\n\u001b[0;32m----> 1\u001b[0;31m \u001b[0;32mimport\u001b[0m \u001b[0mpandas\u001b[0m \u001b[0;32mas\u001b[0m \u001b[0mpd\u001b[0m\u001b[0;34m\u001b[0m\u001b[0;34m\u001b[0m\u001b[0m\n\u001b[0m\u001b[1;32m      2\u001b[0m \u001b[0;32mimport\u001b[0m \u001b[0mnumpy\u001b[0m \u001b[0;32mas\u001b[0m \u001b[0mnp\u001b[0m\u001b[0;34m\u001b[0m\u001b[0;34m\u001b[0m\u001b[0m\n\u001b[1;32m      3\u001b[0m \u001b[0;32mimport\u001b[0m \u001b[0mnltk\u001b[0m\u001b[0;34m\u001b[0m\u001b[0;34m\u001b[0m\u001b[0m\n\u001b[1;32m      4\u001b[0m \u001b[0;32mimport\u001b[0m \u001b[0mrequests\u001b[0m\u001b[0;34m\u001b[0m\u001b[0;34m\u001b[0m\u001b[0m\n\u001b[1;32m      5\u001b[0m \u001b[0;32mimport\u001b[0m \u001b[0mre\u001b[0m\u001b[0;34m\u001b[0m\u001b[0;34m\u001b[0m\u001b[0m\n",
      "\u001b[0;31mModuleNotFoundError\u001b[0m: No module named 'pandas'"
     ]
    }
   ],
   "source": [
    "import pandas as pd\n",
    "import numpy as np\n",
    "import nltk\n",
    "import requests\n",
    "import re\n",
    "import json\n",
    "\n",
    "import matplotlib as mpl\n",
    "import matplotlib.pyplot as plt\n",
    "import matplotlib.colors as mcolors\n",
    "tab_colors_list = list(mcolors.TABLEAU_COLORS.keys())\n",
    "import matplotlib.lines as mlines\n",
    "import seaborn as sns\n",
    "\n",
    "import gspread\n",
    "from gspread_dataframe import get_as_dataframe, set_with_dataframe\n",
    "from google.oauth2 import service_account # based on google-auth library\n",
    "\n",
    "import sddk"
   ]
  },
  {
   "cell_type": "code",
   "execution_count": null,
   "metadata": {},
   "outputs": [],
   "source": [
    "# to access gsheet, you need Google Service Account key json file\n",
    "# I have mine located in my personal space on sciencedata.dk, so I read it from there:\n",
    "conf = sddk.configure()\n",
    "\n",
    "# (1) read the file and parse its content\n",
    "file_data = conf[0].get(conf[1] + \"ServiceAccountsKey.json\").json()\n",
    "# (2) transform the content into crendentials object\n",
    "credentials = service_account.Credentials.from_service_account_info(file_data)\n",
    "# (3) specify your usage of the credentials\n",
    "scoped_credentials = credentials.with_scopes(['https://spreadsheets.google.com/feeds', 'https://www.googleapis.com/auth/drive'])\n",
    "# (4) use the constrained credentials for authentication of gspread package\n",
    "gc = gspread.Client(auth=scoped_credentials)\n",
    "# (5) establish connection with spreadsheets specified by their url\n",
    "terms = gc.open_by_url(\"https://docs.google.com/spreadsheets/d/1nONTEwp42CVnq3iCiONrFbJedIcYtBV-l4Bil5mU7Eo/edit?usp=sharing\")"
   ]
  },
  {
   "cell_type": "code",
   "execution_count": null,
   "metadata": {},
   "outputs": [],
   "source": [
    "# read edh dataset\n",
    "publicfolder = \"b6b6afdb969d378b70929e86e58ad975\"\n",
    "EDH = sddk.read_file(\"EDH_text_cleaned_2021-01-21.json\", \"df\", publicfolder)\n",
    "EDH.head(5)"
   ]
  },
  {
   "cell_type": "code",
   "execution_count": null,
   "metadata": {},
   "outputs": [],
   "source": [
    "# read edcs dataset\n",
    "publicfolder = \"1f5f56d09903fe259c0906add8b3a55e\"\n",
    "EDCS = sddk.read_file(\"EDCS_text_cleaned_2021-01-21.json\", \"df\", publicfolder)\n",
    "EDCS.head(5)"
   ]
  },
  {
   "cell_type": "code",
   "execution_count": null,
   "metadata": {},
   "outputs": [],
   "source": [
    "# read declined terms\n",
    "with open(\"../data/occups_declined_dict.json\", \"r\") as fp:\n",
    "    occups_declined_dict = json.load(fp)"
   ]
  },
  {
   "cell_type": "code",
   "execution_count": null,
   "metadata": {},
   "outputs": [],
   "source": [
    "# check that our terms are properly arranged (from the longest...)\n",
    "list(occups_declined_dict.keys())[:20]"
   ]
  },
  {
   "cell_type": "markdown",
   "metadata": {},
   "source": [
    "# Function to extract terms"
   ]
  },
  {
   "cell_type": "code",
   "execution_count": null,
   "metadata": {},
   "outputs": [],
   "source": [
    "def extract_occup_v1(inscription_text):\n",
    "    occups_found = []\n",
    "    for occup in occups_declined_dict.keys():\n",
    "        for occup_morph in occups_declined_dict[occup]:\n",
    "            try:\n",
    "                occup_morph_N = inscription_text.lower().count(occup_morph)\n",
    "                if occup_morph_N > 0:\n",
    "                    occups_found.extend([occup] * occup_morph_N)\n",
    "                    inscription_text = inscription_text.replace(occup_morph, \"\")\n",
    "                \n",
    "            except: pass\n",
    "    return occups_found"
   ]
  },
  {
   "cell_type": "code",
   "execution_count": null,
   "metadata": {},
   "outputs": [],
   "source": [
    "def extract_occup(inscription_text):\n",
    "    occups_found = []\n",
    "    try:\n",
    "        inscription_text = inscription_text.lower()\n",
    "    except:\n",
    "        inscription_text = \"\"\n",
    "    for occup in occups_declined_dict.keys():\n",
    "        for occup_morph in occups_declined_dict[occup]:\n",
    "            try:\n",
    "                if occup_morph in inscription_text: # first check it this way, otherwise skip\n",
    "                    occup_morph_N = len(re.findall(\"(\\W|^)\" + occup_morph + \"(\\W|$)\", inscription_text))\n",
    "                    occups_found.extend([occup] * occup_morph_N)\n",
    "                    inscription_text = inscription_text.replace(occup_morph, \"\")\n",
    "            except: pass\n",
    "    return occups_found"
   ]
  },
  {
   "cell_type": "code",
   "execution_count": null,
   "metadata": {},
   "outputs": [],
   "source": [
    "extract_occup(\"fdfsdf. Lotori,\")"
   ]
  },
  {
   "cell_type": "markdown",
   "metadata": {},
   "source": [
    "# Test on a sample"
   ]
  },
  {
   "cell_type": "code",
   "execution_count": null,
   "metadata": {},
   "outputs": [],
   "source": [
    "# sample for testing\n",
    "EDH_sample = EDH[:1000]\n",
    "len(EDH_sample)"
   ]
  },
  {
   "cell_type": "code",
   "execution_count": null,
   "metadata": {},
   "outputs": [],
   "source": [
    "%%time\n",
    "EDH_sample[\"occups\"] = EDH_sample[\"clean_text_interpretive_word\"].apply(extract_occup)\n",
    "EDH_occups_list = [el for sublist in EDH_sample[\"occups\"].tolist() for el in sublist]\n",
    "len(EDH_occups_list) \n",
    "# v1: 3.03s, 946 found\n",
    "# once we remove after first match, then only 636\n",
    "# but once we are sensitive to repeated occurences, we get 742\n",
    "# when looking for within a lower case inscription, the number increases to 902"
   ]
  },
  {
   "cell_type": "code",
   "execution_count": null,
   "metadata": {},
   "outputs": [],
   "source": [
    "EDH_sample[\"occups_N\"] = EDH_sample[\"occups\"].apply(len)"
   ]
  },
  {
   "cell_type": "code",
   "execution_count": null,
   "metadata": {},
   "outputs": [],
   "source": [
    "len(EDH_sample[EDH_sample[\"occups_N\"] > 0])"
   ]
  },
  {
   "cell_type": "code",
   "execution_count": null,
   "metadata": {},
   "outputs": [],
   "source": [
    "# create sample and export it to gsheet\n",
    "EDH_occups_sample = EDH_sample[EDH_sample[\"occups_N\"] > 0][[\"id\", \"clean_text_interpretive_word\", \"occups\"]]\n",
    "set_with_dataframe(terms.add_worksheet(\"EDH_occups_sample\", 1, 1), EDH_occups_sample)"
   ]
  },
  {
   "cell_type": "markdown",
   "metadata": {},
   "source": [
    "# Application on the whole dataset"
   ]
  },
  {
   "cell_type": "code",
   "execution_count": null,
   "metadata": {},
   "outputs": [],
   "source": [
    "%%time\n",
    "EDH[\"occups\"] = EDH[\"clean_text_interpretive_word\"].apply(extract_occup)"
   ]
  },
  {
   "cell_type": "code",
   "execution_count": null,
   "metadata": {},
   "outputs": [],
   "source": [
    "EDH_occups_list = [el for sublist in EDH[\"occups\"].tolist() for el in sublist]\n",
    "print(len(EDH_occups_list))\n",
    "print(nltk.FreqDist(EDH_occups_list).most_common(30))"
   ]
  },
  {
   "cell_type": "markdown",
   "metadata": {},
   "source": [
    "first results (for comparison):\n",
    "\n",
    "```[('curator', 2833), ('ustor', 2092), ('plastes', 1076), ('psaltes', 866), ('cerdo', 730), ('uctor', 592), ('faber', 458), ('promus', 320), ('sagittarius', 236), ('erarius', 217), ('scriba', 194), ('negotiator', 191), ('medicus', 137), ('tector', 136), ('centonarius', 132), ('emporus', 113), ('gladiator', 112), ('aerarius', 104), ('marmorarienses', 102), ('conditor', 76), ('vexillarius', 74), ('lanius', 72), ('scaenicus', 71), ('tesserarius', 70), ('argentarius', 65), ('mensor', 62), ('scriptor', 61), ('figlus', 56), ('nauta', 53), ('cellio', 52)]```"
   ]
  },
  {
   "cell_type": "code",
   "execution_count": null,
   "metadata": {},
   "outputs": [],
   "source": [
    "EDH[\"occups_N\"] = EDH[\"occups\"].apply(len)"
   ]
  },
  {
   "cell_type": "code",
   "execution_count": null,
   "metadata": {},
   "outputs": [],
   "source": [
    "%%time\n",
    "EDCS[\"occups\"] = EDCS[\"clean_text_interpretive_word\"].apply(extract_occup)"
   ]
  },
  {
   "cell_type": "code",
   "execution_count": null,
   "metadata": {},
   "outputs": [],
   "source": [
    "EDCS_occups_list = [el for sublist in EDCS[\"occups\"].tolist() for el in sublist]\n",
    "print(len(EDCS_occups_list))\n",
    "print(nltk.FreqDist(EDCS_occups_list).most_common(30))"
   ]
  },
  {
   "cell_type": "markdown",
   "metadata": {},
   "source": [
    "previous version\n",
    "```40509\n",
    "[('plastes', 5934), ('curator', 4368), ('figlus', 4251), ('cerdo', 2905), ('ustor', 2863), ('psaltes', 2205), ('faber', 2162), ('pollio', 907), ('medicus', 723), ('uctor', 671), ('scriba', 558), ('mercator', 546), ('aerarius', 517), ('promus', 485), ('cocus', 437), ('figulus', 419), ('sagittarius', 376), ('marmorarienses', 360), ('lanius', 334), ('emporus', 316), ('agricola', 310), ('fullo', 279), ('vexillarius', 273), ('gladiator', 248), ('restio', 246), ('aedifex', 245), ('negotiator', 244), ('vitor', 242), ('tector', 230), ('centonarius', 220)]\n",
    "```"
   ]
  },
  {
   "cell_type": "code",
   "execution_count": null,
   "metadata": {},
   "outputs": [],
   "source": [
    "EDCS[\"occups_N\"] = EDCS[\"occups\"].apply(len)"
   ]
  },
  {
   "cell_type": "markdown",
   "metadata": {},
   "source": [
    "# TERMS - overview"
   ]
  },
  {
   "cell_type": "code",
   "execution_count": null,
   "metadata": {},
   "outputs": [],
   "source": [
    "print(\"EDH - number of term occurances: \" + str(EDH[\"occups_N\"].sum()))\n",
    "print(\"EDH - number of inscriptions with at least one term mentioned: \" + str(len(EDH[EDH[\"occups_N\"] > 0])))\n",
    "print(\"EDH - number of dated inscriptions with at least one term mentioned: \"+ str(len(EDH[(EDH[\"not_before\"].notnull()) & (EDH[\"occups_N\"] > 0)])))\n",
    "print(\"EDH - number of term occurances in dated inscriptions: \" + str(EDH[EDH[\"not_before\"].notnull()][\"occups_N\"].sum()))"
   ]
  },
  {
   "cell_type": "code",
   "execution_count": null,
   "metadata": {},
   "outputs": [],
   "source": [
    "print(\"EDCS - number of term occurances: \" + str(EDCS[\"occups_N\"].sum()))\n",
    "print(\"EDCS - number of inscriptions with at least one term mentioned: \" + str(len(EDCS[EDCS[\"occups_N\"] > 0])))\n",
    "print(\"EDCS - number of dated inscriptions with at least one term mentioned: \"+ str(len(EDCS[(EDCS[\"dating to\"].notnull()) & (EDCS[\"occups_N\"] > 0)])))\n",
    "print(\"EDCS - number of term occurances in dated inscriptions: \" + str(EDCS[EDCS[\"dating to\"].notnull()][\"occups_N\"].sum()))"
   ]
  },
  {
   "cell_type": "code",
   "execution_count": null,
   "metadata": {},
   "outputs": [],
   "source": [
    "# login to our project folder, owned by my AU account 648597@au.dk\n",
    "conf = sddk.configure(\"SDAM_root\", \"648597@au.dk\")"
   ]
  },
  {
   "cell_type": "code",
   "execution_count": null,
   "metadata": {},
   "outputs": [],
   "source": [
    "sddk.write_file(\"SDAM_data/social_diversity/EDH_occups.json\", EDH, conf)\n",
    "sddk.write_file(\"SDAM_data/social_diversity/EDCS_occups.json\", EDCS, conf)"
   ]
  }
 ],
 "metadata": {
  "colab": {
   "authorship_tag": "ABX9TyOKWnvxv3tTbNERCRAysPtc",
   "include_colab_link": true,
   "name": "WORKING_WITH_CLEANED_TEXTS.ipynb",
   "provenance": []
  },
  "kernelspec": {
   "display_name": "Python 3",
   "language": "python",
   "name": "python3"
  },
  "language_info": {
   "codemirror_mode": {
    "name": "ipython",
    "version": 3
   },
   "file_extension": ".py",
   "mimetype": "text/x-python",
   "name": "python",
   "nbconvert_exporter": "python",
   "pygments_lexer": "ipython3",
   "version": "3.7.3"
  }
 },
 "nbformat": 4,
 "nbformat_minor": 1
}
